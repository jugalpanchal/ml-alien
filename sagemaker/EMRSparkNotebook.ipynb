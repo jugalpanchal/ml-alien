{
  "cells": [
    {
      "cell_type": "markdown",
      "metadata": {
        "id": "view-in-github",
        "colab_type": "text"
      },
      "source": [
        "<a href=\"https://colab.research.google.com/github/jugalpanchal/ml-alien/blob/main/sagemaker/EMRSparkNotebook.ipynb\" target=\"_parent\"><img src=\"https://colab.research.google.com/assets/colab-badge.svg\" alt=\"Open In Colab\"/></a>"
      ]
    },
    {
      "cell_type": "markdown",
      "metadata": {
        "id": "-RIo9R5OepOs"
      },
      "source": [
        "# EMR Notebook SageMaker Custom Abalone Ring Estimator\n",
        "\n",
        "1. [Setup](#Setup)\n",
        "2. [Load the Data](#Load-the-Data)\n",
        "3. [Train the Model](#Train-the-Model)\n",
        "4. [Inference Results](#Inference-Results)\n",
        "5. [Wrap-Up](#Wrap-Up)"
      ]
    },
    {
      "cell_type": "markdown",
      "metadata": {
        "id": "hrj--b3WepOv"
      },
      "source": [
        "## Setup - You MUST specify the user specific parameters below.\n",
        "\n",
        "**Enter the SageMaker Execution Role ARN that you created earlier in the IAM console.**\n",
        "\n",
        "**Enter the region code corresponding to the region your EMR cluster is in.**\n",
        "You can look up the region code (us-east-1 for North Virginia, for example) on [this page](https://docs.aws.amazon.com/AmazonRDS/latest/UserGuide/Concepts.RegionsAndAvailabilityZones.html). "
      ]
    },
    {
      "cell_type": "code",
      "execution_count": null,
      "metadata": {
        "colab": {
          "referenced_widgets": [
            "5d1d7bd8097c442c88ff03c07acc503f",
            ""
          ]
        },
        "id": "q-T2qug9epOv",
        "outputId": "341305a6-4fab-4910-9c7d-2ecff00003a0"
      },
      "outputs": [
        {
          "data": {
            "application/vnd.jupyter.widget-view+json": {
              "model_id": "5d1d7bd8097c442c88ff03c07acc503f",
              "version_major": 2,
              "version_minor": 0
            },
            "text/plain": [
              "VBox()"
            ]
          },
          "metadata": {},
          "output_type": "display_data"
        },
        {
          "name": "stdout",
          "output_type": "stream",
          "text": [
            "Starting Spark application\n"
          ]
        },
        {
          "data": {
            "text/html": [
              "<table>\n",
              "<tr><th>ID</th><th>YARN Application ID</th><th>Kind</th><th>State</th><th>Spark UI</th><th>Driver log</th><th>User</th><th>Current session?</th></tr><tr><td>3</td><td>application_1662295594836_0004</td><td>pyspark</td><td>idle</td><td><a target=\"_blank\" href=\"http://ip-172-30-0-134.us-east-2.compute.internal:20888/proxy/application_1662295594836_0004/\" class=\"emr-proxy-link\" emr-resource=\"j-YXB6G5QFNSAE\n",
              "\" application-id=\"application_1662295594836_0004\">Link</a></td><td><a target=\"_blank\" href=\"http://ip-172-30-0-153.us-east-2.compute.internal:8042/node/containerlogs/container_1662295594836_0004_01_000001/livy\" >Link</a></td><td>None</td><td>✔</td></tr></table>"
            ],
            "text/plain": [
              "<IPython.core.display.HTML object>"
            ]
          },
          "metadata": {},
          "output_type": "display_data"
        },
        {
          "data": {
            "application/vnd.jupyter.widget-view+json": {
              "model_id": "",
              "version_major": 2,
              "version_minor": 0
            },
            "text/plain": [
              "FloatProgress(value=0.0, bar_style='info', description='Progress:', layout=Layout(height='25px', width='50%'),…"
            ]
          },
          "metadata": {},
          "output_type": "display_data"
        },
        {
          "name": "stdout",
          "output_type": "stream",
          "text": [
            "SparkSession available as 'spark'.\n"
          ]
        },
        {
          "data": {
            "application/vnd.jupyter.widget-view+json": {
              "model_id": "",
              "version_major": 2,
              "version_minor": 0
            },
            "text/plain": [
              "FloatProgress(value=0.0, bar_style='info', description='Progress:', layout=Layout(height='25px', width='50%'),…"
            ]
          },
          "metadata": {},
          "output_type": "display_data"
        },
        {
          "name": "stdout",
          "output_type": "stream",
          "text": [
            "All necessary user parameters are entered."
          ]
        }
      ],
      "source": [
        "# *****DEFINE USER SPECIFIC PARAMETERS******\n",
        "region = 'us-east-2'\n",
        "sagemaker_execution_role = 'arn:aws:iam::123456789123:role/SageMaker-EMR-ExecutionRole'\n",
        "\n",
        "#The number of EMR nodes to process the data.\n",
        "num_workers = 12\n",
        "\n",
        "# The location of the dataset we will be using. \n",
        "source_bucket = 'ee-assets-prod-us-east-1'\n",
        "source_key = 'modules/8560b4bd6942403b9fe3291928df2453/v1/data/abalone.csv'\n",
        "\n",
        "if (region and source_bucket and sagemaker_execution_role and num_workers):\n",
        "    print('All necessary user parameters are entered.')\n",
        "else:\n",
        "    print('Please check to make sure you entered all default parameters!')"
      ]
    },
    {
      "cell_type": "markdown",
      "metadata": {
        "id": "eCnN5yDmepOy"
      },
      "source": [
        "Each EMR notebook is launched with its own Spark context (variable sc). A Spark Context is the entry point for communication with Spark. First you need to install the Python packages that you'll use throughout the notebook. EMR notebooks come with a default set of libraries for data processing. You can see which libraries are installed on the notebook by calling the Spark Context's list_packages() function. "
      ]
    },
    {
      "cell_type": "code",
      "execution_count": null,
      "metadata": {
        "colab": {
          "referenced_widgets": [
            "bc04a7166cce4c529510969ae86be9d1",
            ""
          ]
        },
        "id": "pqtLIuM-epOy",
        "outputId": "2410f638-c8df-44c1-b643-435f04b6d6f8"
      },
      "outputs": [
        {
          "data": {
            "application/vnd.jupyter.widget-view+json": {
              "model_id": "bc04a7166cce4c529510969ae86be9d1",
              "version_major": 2,
              "version_minor": 0
            },
            "text/plain": [
              "VBox()"
            ]
          },
          "metadata": {},
          "output_type": "display_data"
        },
        {
          "data": {
            "application/vnd.jupyter.widget-view+json": {
              "model_id": "",
              "version_major": 2,
              "version_minor": 0
            },
            "text/plain": [
              "FloatProgress(value=0.0, bar_style='info', description='Progress:', layout=Layout(height='25px', width='50%'),…"
            ]
          },
          "metadata": {},
          "output_type": "display_data"
        },
        {
          "name": "stdout",
          "output_type": "stream",
          "text": [
            "aws-cfn-bootstrap (2.0)\n",
            "beautifulsoup4 (4.9.3)\n",
            "boto (2.49.0)\n",
            "click (8.1.1)\n",
            "docutils (0.14)\n",
            "jmespath (1.0.0)\n",
            "joblib (1.1.0)\n",
            "lockfile (0.11.0)\n",
            "lxml (4.8.0)\n",
            "mysqlclient (1.4.2)\n",
            "nltk (3.7)\n",
            "nose (1.3.4)\n",
            "numpy (1.20.0)\n",
            "pip (9.0.1)\n",
            "py-dateutil (2.2)\n",
            "pystache (0.5.4)\n",
            "python-daemon (2.2.3)\n",
            "python37-sagemaker-pyspark (1.4.1)\n",
            "pytz (2022.1)\n",
            "PyYAML (5.4.1)\n",
            "regex (2021.11.10)\n",
            "setuptools (28.8.0)\n",
            "simplejson (3.2.0)\n",
            "six (1.13.0)\n",
            "tqdm (4.63.1)\n",
            "wheel (0.29.0)\n",
            "windmill (1.6)\n",
            "\n",
            "DEPRECATION: The default format will switch to columns in the future. You can use --format=(legacy|columns) (or define a format=(legacy|columns) in your pip.conf under the [list] section) to disable this warning.\n",
            "You are using pip version 9.0.1, however version 22.2.2 is available.\n",
            "You should consider upgrading via the 'pip install --upgrade pip' command."
          ]
        }
      ],
      "source": [
        "sc.list_packages()"
      ]
    },
    {
      "cell_type": "markdown",
      "metadata": {
        "id": "mPnRuMgjepOy"
      },
      "source": [
        "To comunicate with SageMaker you need to install notebook scoped libraries. These libraries are available only during the notebook session. After the session ends, the libraries are deleted. \n",
        "\n",
        "We install [boto3 (the AWS Python 3 SDK)](https://aws.amazon.com/sdk-for-python/) and the [high level SageMaker SDK](https://sagemaker.readthedocs.io/en/stable/). "
      ]
    },
    {
      "cell_type": "code",
      "execution_count": null,
      "metadata": {
        "scrolled": false,
        "colab": {
          "referenced_widgets": [
            "3ddf0a281be64b2ba16c506f9aea7e34",
            ""
          ]
        },
        "id": "3dNWjnN5epOz",
        "outputId": "caf871e4-903d-45c9-bd1e-91ca1b781267"
      },
      "outputs": [
        {
          "data": {
            "application/vnd.jupyter.widget-view+json": {
              "model_id": "3ddf0a281be64b2ba16c506f9aea7e34",
              "version_major": 2,
              "version_minor": 0
            },
            "text/plain": [
              "VBox()"
            ]
          },
          "metadata": {},
          "output_type": "display_data"
        },
        {
          "data": {
            "application/vnd.jupyter.widget-view+json": {
              "model_id": "",
              "version_major": 2,
              "version_minor": 0
            },
            "text/plain": [
              "FloatProgress(value=0.0, bar_style='info', description='Progress:', layout=Layout(height='25px', width='50%'),…"
            ]
          },
          "metadata": {},
          "output_type": "display_data"
        },
        {
          "name": "stdout",
          "output_type": "stream",
          "text": [
            "Collecting boto3==1.16.9\n",
            "  Downloading https://files.pythonhosted.org/packages/e3/99/3979b617c0cbb3d7260cd3357b4a06edaa91073dd252687b7502f6678bb8/boto3-1.16.9-py2.py3-none-any.whl (129kB)\n",
            "Collecting botocore<1.20.0,>=1.19.9 (from boto3==1.16.9)\n",
            "  Downloading https://files.pythonhosted.org/packages/2c/05/0a955f0c92bec7da076fbbc73926dfb13fab8e2b88de7f8eb17c443f28f0/botocore-1.19.63-py2.py3-none-any.whl (7.2MB)\n",
            "Collecting jmespath<1.0.0,>=0.7.1 (from boto3==1.16.9)\n",
            "  Downloading https://files.pythonhosted.org/packages/07/cb/5f001272b6faeb23c1c9e0acc04d48eaaf5c862c17709d20e3469c6e0139/jmespath-0.10.0-py2.py3-none-any.whl\n",
            "Collecting s3transfer<0.4.0,>=0.3.0 (from boto3==1.16.9)\n",
            "  Downloading https://files.pythonhosted.org/packages/00/89/0cb4e92c239e6425b9b0035227b8cdf9d3d098a5c9e95632c3815df63a09/s3transfer-0.3.7-py2.py3-none-any.whl (73kB)\n",
            "Collecting python-dateutil<3.0.0,>=2.1 (from botocore<1.20.0,>=1.19.9->boto3==1.16.9)\n",
            "  Downloading https://files.pythonhosted.org/packages/36/7a/87837f39d0296e723bb9b62bbb257d0355c7f6128853c78955f57342a56d/python_dateutil-2.8.2-py2.py3-none-any.whl (247kB)\n",
            "Collecting urllib3<1.27,>=1.25.4; python_version != \"3.4\" (from botocore<1.20.0,>=1.19.9->boto3==1.16.9)\n",
            "  Downloading https://files.pythonhosted.org/packages/6f/de/5be2e3eed8426f871b170663333a0f627fc2924cc386cd41be065e7ea870/urllib3-1.26.12-py2.py3-none-any.whl (140kB)\n",
            "Requirement already satisfied: six>=1.5 in /usr/local/lib/python3.7/site-packages (from python-dateutil<3.0.0,>=2.1->botocore<1.20.0,>=1.19.9->boto3==1.16.9)\n",
            "Installing collected packages: python-dateutil, urllib3, jmespath, botocore, s3transfer, boto3\n",
            "  Found existing installation: jmespath 1.0.0\n",
            "    Not uninstalling jmespath at /usr/local/lib/python3.7/site-packages, outside environment /tmp/1662321897296-0\n",
            "Successfully installed boto3-1.16.9 botocore-1.19.63 jmespath-0.10.0 python-dateutil-2.8.2 s3transfer-0.3.7 urllib3-1.26.12\n",
            "\n",
            "Collecting sagemaker==2.16.1\n",
            "  Downloading https://files.pythonhosted.org/packages/17/46/6f33739ddb673583b9ff6b6bada62813a1326edfe3a9cebd5e2df4ab23a0/sagemaker-2.16.1.tar.gz (306kB)\n",
            "Requirement already satisfied: boto3>=1.14.12 in /mnt/tmp/1662321897296-0/lib/python3.7/site-packages (from sagemaker==2.16.1)\n",
            "Collecting google-pasta (from sagemaker==2.16.1)\n",
            "  Downloading https://files.pythonhosted.org/packages/a3/de/c648ef6835192e6e2cc03f40b19eeda4382c49b5bafb43d88b931c4c74ac/google_pasta-0.2.0-py3-none-any.whl (57kB)\n",
            "Requirement already satisfied: numpy>=1.9.0 in /usr/local/lib64/python3.7/site-packages (from sagemaker==2.16.1)\n",
            "Collecting protobuf>=3.1 (from sagemaker==2.16.1)\n",
            "  Downloading https://files.pythonhosted.org/packages/59/29/1ae13c23a166b3ce3ae4975e8bc7a4fe7f3e4f39568544b3125321bafca7/protobuf-4.21.5-py2.py3-none-any.whl (164kB)\n",
            "Collecting protobuf3-to-dict>=0.1.5 (from sagemaker==2.16.1)\n",
            "  Downloading https://files.pythonhosted.org/packages/6b/55/522bb43539fed463275ee803d79851faaebe86d17e7e3dbc89870d0322b9/protobuf3-to-dict-0.1.5.tar.gz\n",
            "Collecting smdebug-rulesconfig==0.1.5 (from sagemaker==2.16.1)\n",
            "  Downloading https://files.pythonhosted.org/packages/3e/d9/10f5d4e1992575b704a9a0d0af1e962e31c6409ab414f686fdc2e2d42787/smdebug_rulesconfig-0.1.5-py2.py3-none-any.whl\n",
            "Collecting importlib-metadata>=1.4.0 (from sagemaker==2.16.1)\n",
            "  Downloading https://files.pythonhosted.org/packages/d2/a2/8c239dc898138f208dd14b441b196e7b3032b94d3137d9d8453e186967fc/importlib_metadata-4.12.0-py3-none-any.whl\n",
            "Collecting packaging>=20.0 (from sagemaker==2.16.1)\n",
            "  Downloading https://files.pythonhosted.org/packages/05/8e/8de486cbd03baba4deef4142bd643a3e7bbe954a784dc1bb17142572d127/packaging-21.3-py3-none-any.whl (40kB)\n",
            "Requirement already satisfied: botocore<1.20.0,>=1.19.9 in /mnt/tmp/1662321897296-0/lib/python3.7/site-packages (from boto3>=1.14.12->sagemaker==2.16.1)\n",
            "Requirement already satisfied: jmespath<1.0.0,>=0.7.1 in /mnt/tmp/1662321897296-0/lib/python3.7/site-packages (from boto3>=1.14.12->sagemaker==2.16.1)\n",
            "Requirement already satisfied: s3transfer<0.4.0,>=0.3.0 in /mnt/tmp/1662321897296-0/lib/python3.7/site-packages (from boto3>=1.14.12->sagemaker==2.16.1)\n",
            "Requirement already satisfied: six in /usr/local/lib/python3.7/site-packages (from google-pasta->sagemaker==2.16.1)\n",
            "Collecting typing-extensions>=3.6.4; python_version < \"3.8\" (from importlib-metadata>=1.4.0->sagemaker==2.16.1)\n",
            "  Downloading https://files.pythonhosted.org/packages/ed/d6/2afc375a8d55b8be879d6b4986d4f69f01115e795e36827fd3a40166028b/typing_extensions-4.3.0-py3-none-any.whl\n",
            "Collecting zipp>=0.5 (from importlib-metadata>=1.4.0->sagemaker==2.16.1)\n",
            "  Downloading https://files.pythonhosted.org/packages/f0/36/639d6742bcc3ffdce8b85c31d79fcfae7bb04b95f0e5c4c6f8b206a038cc/zipp-3.8.1-py3-none-any.whl\n",
            "Collecting pyparsing!=3.0.5,>=2.0.2 (from packaging>=20.0->sagemaker==2.16.1)\n",
            "  Downloading https://files.pythonhosted.org/packages/6c/10/a7d0fa5baea8fe7b50f448ab742f26f52b80bfca85ac2be9d35cdd9a3246/pyparsing-3.0.9-py3-none-any.whl (98kB)\n",
            "Requirement already satisfied: python-dateutil<3.0.0,>=2.1 in /mnt/tmp/1662321897296-0/lib/python3.7/site-packages (from botocore<1.20.0,>=1.19.9->boto3>=1.14.12->sagemaker==2.16.1)\n",
            "Requirement already satisfied: urllib3<1.27,>=1.25.4; python_version != \"3.4\" in /mnt/tmp/1662321897296-0/lib/python3.7/site-packages (from botocore<1.20.0,>=1.19.9->boto3>=1.14.12->sagemaker==2.16.1)\n",
            "Building wheels for collected packages: sagemaker, protobuf3-to-dict\n",
            "  Running setup.py bdist_wheel for sagemaker: started\n",
            "  Running setup.py bdist_wheel for sagemaker: finished with status 'done'\n",
            "  Stored in directory: /var/lib/livy/.cache/pip/wheels/16/0d/24/cbcab58191f1129d3159dabede8d5eb1bf55cfc42fddfb4271\n",
            "  Running setup.py bdist_wheel for protobuf3-to-dict: started\n",
            "  Running setup.py bdist_wheel for protobuf3-to-dict: finished with status 'done'\n",
            "  Stored in directory: /var/lib/livy/.cache/pip/wheels/37/42/d8/1609d310cabebc2cf60eca038fa2b0c8503412963734a6fc31\n",
            "Successfully built sagemaker protobuf3-to-dict\n",
            "Installing collected packages: google-pasta, protobuf, protobuf3-to-dict, smdebug-rulesconfig, typing-extensions, zipp, importlib-metadata, pyparsing, packaging, sagemaker\n",
            "Successfully installed google-pasta-0.2.0 importlib-metadata-4.12.0 packaging-21.3 protobuf-4.21.5 protobuf3-to-dict-0.1.5 pyparsing-3.0.9 sagemaker-2.16.1 smdebug-rulesconfig-0.1.5 typing-extensions-4.3.0 zipp-3.8.1\n",
            "\n",
            "You are using pip version 9.0.1, however version 22.2.2 is available.\n",
            "You should consider upgrading via the 'pip install --upgrade pip' command.\n",
            "\n",
            "You are using pip version 9.0.1, however version 22.2.2 is available.\n",
            "You should consider upgrading via the 'pip install --upgrade pip' command."
          ]
        }
      ],
      "source": [
        "sc.install_pypi_package(\"boto3==1.16.9\");\n",
        "sc.install_pypi_package('sagemaker==2.16.1');"
      ]
    },
    {
      "cell_type": "code",
      "execution_count": null,
      "metadata": {
        "colab": {
          "referenced_widgets": [
            "44a310b5b87144c6a21733f36a0db2cb",
            ""
          ]
        },
        "id": "6KnxtX2zepOz",
        "outputId": "bc8ac180-0b2d-4e6f-e2e8-04124d944814"
      },
      "outputs": [
        {
          "data": {
            "application/vnd.jupyter.widget-view+json": {
              "model_id": "44a310b5b87144c6a21733f36a0db2cb",
              "version_major": 2,
              "version_minor": 0
            },
            "text/plain": [
              "VBox()"
            ]
          },
          "metadata": {},
          "output_type": "display_data"
        },
        {
          "data": {
            "application/vnd.jupyter.widget-view+json": {
              "model_id": "",
              "version_major": 2,
              "version_minor": 0
            },
            "text/plain": [
              "FloatProgress(value=0.0, bar_style='info', description='Progress:', layout=Layout(height='25px', width='50%'),…"
            ]
          },
          "metadata": {},
          "output_type": "display_data"
        },
        {
          "name": "stdout",
          "output_type": "stream",
          "text": [
            "A SageMaker session was initiated! You are using sagemaker-us-east-2-123456789123 as your S3 bucket for intermediate files."
          ]
        }
      ],
      "source": [
        "import boto3\n",
        "import sagemaker\n",
        "\n",
        "#We initiate a session for the boto3 and sagemaker APIs. The session includes information necessary to call the\n",
        "#AWS APIs, such as AWS credentials and default AWS region. For this lab we will leverage the IAM role attached to\n",
        "#the EMR notebook, so we only need to provide a region.\n",
        "boto_sess = boto3.Session(region_name=region)\n",
        "sage_sdk_session = sagemaker.Session(boto_session=boto_sess)\n",
        "bucket = sage_sdk_session.default_bucket()\n",
        "\n",
        "print('A SageMaker session was initiated! You are using {} as your S3 bucket for intermediate files.'.format(bucket))"
      ]
    },
    {
      "cell_type": "markdown",
      "metadata": {
        "id": "dNws4rN-epO0"
      },
      "source": [
        "## Load the Data\n",
        "\n",
        "We will use the public abalone data set from the [UC Irvine Machine Learning Repository](https://archive.ics.uci.edu/ml/datasets/Abalone)\n",
        "to train and test a regression model.\n",
        "\n",
        "   Given in the dataset is the attribute name, attribute type, the measurement unit and a\n",
        "   brief description.  The number of rings is the value to predict: either\n",
        "   as a continuous value or as a classification problem.\n",
        "   \n",
        "   The age of an abalone is the number of rings in the shell + 1.5 years. Without a model researchers must cut through the abalone shell\n",
        "   and use a microscope to count the rings. Using a model to predict rings eliminates this time consuming process.\n",
        "\n",
        "\tName\t\t\tData Type\t\tMeas.\tDescription\n",
        "\t----\t\t\t---------\t\t-----\t-----------\n",
        "\tRings\t\t\tinteger\t\t\t\t\t+1.5 gives the age in years\n",
        "\tLength\t\t\tcontinuous\t\tmm\t\tLongest shell measurement\n",
        "\tDiameter\t\tcontinuous\t\tmm\t\tperpendicular to length\n",
        "\tHeight\t\t\tcontinuous\t\tmm\t\twith meat in shell\n",
        "\tWhole weight\tcontinuous\t\tgrams\twhole abalone\n",
        "\tShucked weight\tcontinuous\t\tgrams\tweight of meat\n",
        "\tViscera weight\tcontinuous\t\tgrams\tgut weight (after bleeding)\n",
        "\tShell weight\tcontinuous\t\tgrams\tafter being dried\n",
        "\tMale\t\t\tinteger\t\t\t1/0 \t1 encodes true, 0 false\n",
        "\tFemale\t\t\tinteger\t\t\t1/0 \t1 encodes true, 0 false\n",
        "\tInfant\t\t\tinteger\t\t\t1/0 \t1 encodes true, 0 false"
      ]
    },
    {
      "cell_type": "markdown",
      "metadata": {
        "id": "UiZ8uWh0epO0"
      },
      "source": [
        "First, we need to copy the public files to the S3 bucket in our account."
      ]
    },
    {
      "cell_type": "code",
      "execution_count": null,
      "metadata": {
        "colab": {
          "referenced_widgets": [
            "e64a480b2fb14f6283e93b5c318b2811",
            ""
          ]
        },
        "id": "ZjUfXWxhepO1",
        "outputId": "84be6c85-8114-4157-8a83-acf8563a61ab"
      },
      "outputs": [
        {
          "data": {
            "application/vnd.jupyter.widget-view+json": {
              "model_id": "e64a480b2fb14f6283e93b5c318b2811",
              "version_major": 2,
              "version_minor": 0
            },
            "text/plain": [
              "VBox()"
            ]
          },
          "metadata": {},
          "output_type": "display_data"
        },
        {
          "data": {
            "application/vnd.jupyter.widget-view+json": {
              "model_id": "",
              "version_major": 2,
              "version_minor": 0
            },
            "text/plain": [
              "FloatProgress(value=0.0, bar_style='info', description='Progress:', layout=Layout(height='25px', width='50%'),…"
            ]
          },
          "metadata": {},
          "output_type": "display_data"
        }
      ],
      "source": [
        "s3 = boto3.client('s3', region_name=region)\n",
        "\n",
        "# Local bucket S3 prefix to store the data under.\n",
        "local_key = 'data/abalone.csv'\n",
        "\n",
        "s3.copy(CopySource={'Bucket' : source_bucket,\n",
        "                    'Key' : source_key}, \n",
        "        Bucket=bucket, \n",
        "        Key=local_key)"
      ]
    },
    {
      "cell_type": "code",
      "execution_count": null,
      "metadata": {
        "colab": {
          "referenced_widgets": [
            "1d693b4477c1494f9f0d6a4f49cb1e2f",
            ""
          ]
        },
        "id": "wt7F-oJCepO1",
        "outputId": "7913db8a-6163-4da7-d5b8-e195d5eeb606"
      },
      "outputs": [
        {
          "data": {
            "application/vnd.jupyter.widget-view+json": {
              "model_id": "1d693b4477c1494f9f0d6a4f49cb1e2f",
              "version_major": 2,
              "version_minor": 0
            },
            "text/plain": [
              "VBox()"
            ]
          },
          "metadata": {},
          "output_type": "display_data"
        },
        {
          "data": {
            "application/vnd.jupyter.widget-view+json": {
              "model_id": "",
              "version_major": 2,
              "version_minor": 0
            },
            "text/plain": [
              "FloatProgress(value=0.0, bar_style='info', description='Progress:', layout=Layout(height='25px', width='50%'),…"
            ]
          },
          "metadata": {},
          "output_type": "display_data"
        },
        {
          "name": "stdout",
          "output_type": "stream",
          "text": [
            "+-----+------+--------+------+------------+--------------+--------------+------------+----+------+------+\n",
            "|Rings|Length|Diameter|Height|Whole_weight|Shucked_weight|Viscera_weight|Shell_weight|Male|Female|Infant|\n",
            "+-----+------+--------+------+------------+--------------+--------------+------------+----+------+------+\n",
            "|    9| 0.665|   0.505| 0.165|       1.349|        0.5985|        0.3175|        0.36|   0|     1|     0|\n",
            "|    7| 0.505|    0.39| 0.185|      0.6125|         0.267|         0.142|       0.172|   0|     0|     1|\n",
            "|   13| 0.575|   0.475|  0.17|       0.967|        0.3775|         0.284|       0.275|   0|     0|     1|\n",
            "|    9| 0.455|   0.355| 0.105|       0.372|         0.138|        0.0765|       0.135|   0|     0|     1|\n",
            "|   17|  0.52|   0.425| 0.155|      0.7735|         0.297|         0.123|       0.255|   1|     0|     0|\n",
            "+-----+------+--------+------+------------+--------------+--------------+------------+----+------+------+\n",
            "only showing top 5 rows"
          ]
        }
      ],
      "source": [
        "# Read the dataset from S3 in to a Spark dataframe.\n",
        "abalone_data = spark.read.load(f's3://{bucket}/{local_key}', format='csv', inferSchema=True, header=True).repartition(num_workers)\n",
        "abalone_data.show(n=5)"
      ]
    },
    {
      "cell_type": "markdown",
      "metadata": {
        "id": "URJZe-rAepO1"
      },
      "source": [
        "Now that the data is in Spark we can modify and enhance our data. As an example, including all four abalone weights may be unnecessary. What really matters may be the difference between the whole weight and the shell weight. Making such changes on large datasets can be done easily in Spark.\n",
        "\n",
        "Let's try adding a column that is the difference between whole weight and shell weight. Then remove the whole, shucked, weight, and shell weight columns. "
      ]
    },
    {
      "cell_type": "code",
      "execution_count": null,
      "metadata": {
        "colab": {
          "referenced_widgets": [
            "7c664414bc0743ed98373a4cb7537a57",
            ""
          ]
        },
        "id": "opxvtvjgepO2",
        "outputId": "d3c0d428-016e-4600-df4c-ece05ab60bed"
      },
      "outputs": [
        {
          "data": {
            "application/vnd.jupyter.widget-view+json": {
              "model_id": "7c664414bc0743ed98373a4cb7537a57",
              "version_major": 2,
              "version_minor": 0
            },
            "text/plain": [
              "VBox()"
            ]
          },
          "metadata": {},
          "output_type": "display_data"
        },
        {
          "data": {
            "application/vnd.jupyter.widget-view+json": {
              "model_id": "",
              "version_major": 2,
              "version_minor": 0
            },
            "text/plain": [
              "FloatProgress(value=0.0, bar_style='info', description='Progress:', layout=Layout(height='25px', width='50%'),…"
            ]
          },
          "metadata": {},
          "output_type": "display_data"
        },
        {
          "name": "stdout",
          "output_type": "stream",
          "text": [
            "+-----+------+--------+------+----+------+------+------------------+\n",
            "|Rings|Length|Diameter|Height|Male|Female|Infant| Difference_weight|\n",
            "+-----+------+--------+------+----+------+------+------------------+\n",
            "|   16|  0.74|     0.6| 0.195|   0|     1|     0|             1.264|\n",
            "|   13| 0.655|    0.52| 0.175|   0|     1|     0|             1.022|\n",
            "|    6| 0.385|    0.29| 0.095|   0|     0|     1|             0.226|\n",
            "|   23|   0.8|    0.63| 0.195|   0|     1|     0|1.9059999999999997|\n",
            "|   11|  0.63|    0.48|  0.16|   0|     1|     0|0.8840000000000001|\n",
            "+-----+------+--------+------+----+------+------+------------------+\n",
            "only showing top 5 rows"
          ]
        }
      ],
      "source": [
        "abalone_data = abalone_data.withColumn('Difference_weight', abalone_data.Whole_weight - abalone_data.Shell_weight)\n",
        "abalone_data = abalone_data.drop('Whole_weight', 'Shucked_weight', 'Viscera_weight', 'Shell_weight')\n",
        "abalone_data.show(n=5)"
      ]
    },
    {
      "cell_type": "code",
      "execution_count": null,
      "metadata": {
        "colab": {
          "referenced_widgets": [
            "19f6b1db4739456b9f6c590ca96b8c32",
            ""
          ]
        },
        "id": "w2xlRbS4epO2",
        "outputId": "62bef88b-9d90-44d7-dbe2-7c6a1775c505"
      },
      "outputs": [
        {
          "data": {
            "application/vnd.jupyter.widget-view+json": {
              "model_id": "19f6b1db4739456b9f6c590ca96b8c32",
              "version_major": 2,
              "version_minor": 0
            },
            "text/plain": [
              "VBox()"
            ]
          },
          "metadata": {},
          "output_type": "display_data"
        },
        {
          "data": {
            "application/vnd.jupyter.widget-view+json": {
              "model_id": "",
              "version_major": 2,
              "version_minor": 0
            },
            "text/plain": [
              "FloatProgress(value=0.0, bar_style='info', description='Progress:', layout=Layout(height='25px', width='50%'),…"
            ]
          },
          "metadata": {},
          "output_type": "display_data"
        },
        {
          "name": "stdout",
          "output_type": "stream",
          "text": [
            "Training dataset saved in csv format to s3://sagemaker-us-east-2-123456789123/train/!\n",
            "Testing dataset saved in csv format to s3://sagemaker-us-east-2-123456789123/test/!"
          ]
        }
      ],
      "source": [
        "# Split the dataframe in to training and validation data.\n",
        "# The training will be used to refine our model.\n",
        "# The test data will be used to measure the model's accuracy.\n",
        "train_data, test_data = abalone_data.randomSplit([.75,.25])\n",
        "\n",
        "s3_train = f's3://{bucket}/train/'\n",
        "s3_test = f's3://{bucket}/test/'\n",
        "data_format = 'csv'\n",
        "\n",
        "# Save the data in to S3 for training by SageMaker\n",
        "train_data.write.save(s3_train, format=data_format, mode='overwrite')\n",
        "test_data.write.save(s3_test, format=data_format, mode='overwrite')\n",
        "\n",
        "print(f'Training dataset saved in {data_format} format to {s3_train}!')\n",
        "print(f'Testing dataset saved in {data_format} format to {s3_test}!')"
      ]
    },
    {
      "cell_type": "markdown",
      "metadata": {
        "id": "wouayDnuepO2"
      },
      "source": [
        "## Train the Model\n",
        "SageMaker contains several common built-in algorithms. For this lab you have the choice of using either the [LinearLearner](https://docs.aws.amazon.com/sagemaker/latest/dg/linear-learner.html) or [XGBoost](https://docs.aws.amazon.com/sagemaker/latest/dg/xgboost.html) built-in algorithms. Both are regression models that estimate the number of rings on the abalone."
      ]
    },
    {
      "cell_type": "code",
      "execution_count": null,
      "metadata": {
        "colab": {
          "referenced_widgets": [
            "b896131905ca43358d8c1e3d556f71e0",
            ""
          ]
        },
        "id": "hSEhZUK8epO3",
        "outputId": "7418f19e-777a-48a9-f597-5e693e6d51d7"
      },
      "outputs": [
        {
          "data": {
            "application/vnd.jupyter.widget-view+json": {
              "model_id": "b896131905ca43358d8c1e3d556f71e0",
              "version_major": 2,
              "version_minor": 0
            },
            "text/plain": [
              "VBox()"
            ]
          },
          "metadata": {},
          "output_type": "display_data"
        },
        {
          "data": {
            "application/vnd.jupyter.widget-view+json": {
              "model_id": "",
              "version_major": 2,
              "version_minor": 0
            },
            "text/plain": [
              "FloatProgress(value=0.0, bar_style='info', description='Progress:', layout=Layout(height='25px', width='50%'),…"
            ]
          },
          "metadata": {},
          "output_type": "display_data"
        },
        {
          "name": "stdout",
          "output_type": "stream",
          "text": [
            "The SageMaker xgboost model will be used."
          ]
        }
      ],
      "source": [
        "# Uncomment the LinearLearner line to use the LinearLearner algorithm. \n",
        "model = 'xgboost'\n",
        "#model = 'linear-learner'\n",
        "\n",
        "print('The SageMaker {} model will be used.'.format(model))"
      ]
    },
    {
      "cell_type": "markdown",
      "metadata": {
        "id": "KC4aBjJsepO3"
      },
      "source": [
        "The following cell defines the hyperparameters for each algorithn. You may leave them as the defaults, but if you are interested you could try changing a few to see if it improves model performance."
      ]
    },
    {
      "cell_type": "code",
      "execution_count": null,
      "metadata": {
        "colab": {
          "referenced_widgets": [
            "ceb3d3947f104453b5966233a9b55da9",
            ""
          ]
        },
        "id": "wLuhyICoepO3",
        "outputId": "36d36e0a-5284-49e1-8a0a-38432148193c"
      },
      "outputs": [
        {
          "data": {
            "application/vnd.jupyter.widget-view+json": {
              "model_id": "ceb3d3947f104453b5966233a9b55da9",
              "version_major": 2,
              "version_minor": 0
            },
            "text/plain": [
              "VBox()"
            ]
          },
          "metadata": {},
          "output_type": "display_data"
        },
        {
          "data": {
            "application/vnd.jupyter.widget-view+json": {
              "model_id": "",
              "version_major": 2,
              "version_minor": 0
            },
            "text/plain": [
              "FloatProgress(value=0.0, bar_style='info', description='Progress:', layout=Layout(height='25px', width='50%'),…"
            ]
          },
          "metadata": {},
          "output_type": "display_data"
        },
        {
          "name": "stdout",
          "output_type": "stream",
          "text": [
            "All model parameters have been set!"
          ]
        }
      ],
      "source": [
        "# Set the regularization weights. Increasing these will reduce how closely the model fits to the training data.\n",
        "l1 = .25\n",
        "l2 = .25\n",
        "\n",
        "# Hyperparameters for XGBoost algorithm\n",
        "xgboost_params = {\n",
        "    'num_round':100,\n",
        "    'objective': 'reg:linear',\n",
        "    'alpha': l1,\n",
        "    'lambda': l2\n",
        "}\n",
        "\n",
        "# Hyperparameters for LinearLearner algorithm\n",
        "linear_params = {\n",
        "    'feature_dim':len(abalone_data.columns)-1,\n",
        "    'predictor_type': 'regressor',\n",
        "    'loss': 'squared_loss',\n",
        "    'l1': l1,\n",
        "    'wd': l2\n",
        "}\n",
        "\n",
        "hyperparams = {\n",
        "    'linear-learner': linear_params,\n",
        "    'xgboost': xgboost_params\n",
        "}\n",
        "\n",
        "print('All model parameters have been set!')"
      ]
    },
    {
      "cell_type": "code",
      "execution_count": null,
      "metadata": {
        "colab": {
          "referenced_widgets": [
            "8067d6f32c5d4dccb8b921c9d52498b6",
            ""
          ]
        },
        "id": "IsMwRraFepO4",
        "outputId": "baba321d-7c19-46b8-e497-c370ec94a2e5"
      },
      "outputs": [
        {
          "data": {
            "application/vnd.jupyter.widget-view+json": {
              "model_id": "8067d6f32c5d4dccb8b921c9d52498b6",
              "version_major": 2,
              "version_minor": 0
            },
            "text/plain": [
              "VBox()"
            ]
          },
          "metadata": {},
          "output_type": "display_data"
        },
        {
          "data": {
            "application/vnd.jupyter.widget-view+json": {
              "model_id": "",
              "version_major": 2,
              "version_minor": 0
            },
            "text/plain": [
              "FloatProgress(value=0.0, bar_style='info', description='Progress:', layout=Layout(height='25px', width='50%'),…"
            ]
          },
          "metadata": {},
          "output_type": "display_data"
        },
        {
          "name": "stdout",
          "output_type": "stream",
          "text": [
            "The SageMaker model was constructed with parameters: {'num_round': 100, 'objective': 'reg:linear', 'alpha': 0.25, 'lambda': 0.25}."
          ]
        }
      ],
      "source": [
        "from sagemaker.image_uris import retrieve\n",
        "\n",
        "estimator = sagemaker.estimator.Estimator(\n",
        "    image_uri=retrieve(framework=model, region=region, version='latest', py_version='py3'), \n",
        "    role=sagemaker_execution_role, \n",
        "    train_instance_count=1, \n",
        "    train_instance_type='ml.m5.large',\n",
        "    sagemaker_session=sage_sdk_session, \n",
        "    hyperparameters=hyperparams[model]\n",
        ")\n",
        "\n",
        "print('The SageMaker model was constructed with parameters: {}.'.format(estimator.hyperparameters()))"
      ]
    },
    {
      "cell_type": "markdown",
      "metadata": {
        "id": "9gtuwH1kepO4"
      },
      "source": [
        "Now that we initialized the model, we can train the model by calling the fit() function. After calling fit(), SageMaker will create a training instance, train a model on the instance, save the model artifacts to S3, then take down the training instance.\n",
        "\n",
        "This usually takes about 3 minutes. \n",
        "\n",
        "(**Optional**) While you wait, you may check the model training progress through the SageMaker console by following these instructions:  \n",
        "a.\tOpen SageMaker console in AWS.  \n",
        "b.\tOn the left panel, scroll until you see ‘training jobs’ beneath the ‘Training’ section.  \n",
        "c.\tClick into the job to examine further details; wait until you see the status change to ‘Completed’.\n"
      ]
    },
    {
      "cell_type": "code",
      "execution_count": null,
      "metadata": {
        "colab": {
          "referenced_widgets": [
            "fc10c59cc1c24643b82426d4356f9547",
            ""
          ]
        },
        "id": "PvA2ScsnepO5",
        "outputId": "eba2d1de-823c-4b71-c726-6139353c7179"
      },
      "outputs": [
        {
          "data": {
            "application/vnd.jupyter.widget-view+json": {
              "model_id": "fc10c59cc1c24643b82426d4356f9547",
              "version_major": 2,
              "version_minor": 0
            },
            "text/plain": [
              "VBox()"
            ]
          },
          "metadata": {},
          "output_type": "display_data"
        },
        {
          "data": {
            "application/vnd.jupyter.widget-view+json": {
              "model_id": "",
              "version_major": 2,
              "version_minor": 0
            },
            "text/plain": [
              "FloatProgress(value=0.0, bar_style='info', description='Progress:', layout=Layout(height='25px', width='50%'),…"
            ]
          },
          "metadata": {},
          "output_type": "display_data"
        },
        {
          "name": "stdout",
          "output_type": "stream",
          "text": [
            "2022-09-04 21:04:30 Starting - Starting the training job...\n",
            "2022-09-04 21:04:46 Starting - Preparing the instances for training......\n",
            "2022-09-04 21:05:54 Downloading - Downloading input data......\n",
            "2022-09-04 21:06:44 Training - Downloading the training image......\n",
            "2022-09-04 21:07:50 Uploading - Uploading generated training modelArguments: train\n",
            "[2022-09-04:21:07:43:INFO] Running standalone xgboost training.\n",
            "[2022-09-04:21:07:43:INFO] Path /opt/ml/input/data/validation does not exist!\n",
            "[2022-09-04:21:07:43:INFO] File size need to be processed in the node: 0.11mb. Available memory size in the node: 539.04mb\n",
            "[2022-09-04:21:07:43:INFO] Determined delimiter of CSV input is ','\n",
            "[21:07:43] S3DistributionType set as FullyReplicated\n",
            "[21:07:43] 3147x7 matrix with 22029 entries loaded from /opt/ml/input/data/train?format=csv&label_column=0&delimiter=,\n",
            "[21:07:43] src/tree/updater_prune.cc:74: tree pruning end, 1 roots, 82 extra nodes, 0 pruned nodes, max_depth=6\n",
            "[0]#011train-rmse:7.27755\n",
            "[21:07:43] src/tree/updater_prune.cc:74: tree pruning end, 1 roots, 98 extra nodes, 0 pruned nodes, max_depth=6\n",
            "[1]#011train-rmse:5.38472\n",
            "[21:07:43] src/tree/updater_prune.cc:74: tree pruning end, 1 roots, 108 extra nodes, 0 pruned nodes, max_depth=6\n",
            "[2]#011train-rmse:4.13663\n",
            "[21:07:43] src/tree/updater_prune.cc:74: tree pruning end, 1 roots, 112 extra nodes, 0 pruned nodes, max_depth=6\n",
            "[3]#011train-rmse:3.34776\n",
            "[21:07:43] src/tree/updater_prune.cc:74: tree pruning end, 1 roots, 114 extra nodes, 0 pruned nodes, max_depth=6\n",
            "[4]#011train-rmse:2.86612\n",
            "[21:07:43] src/tree/updater_prune.cc:74: tree pruning end, 1 roots, 96 extra nodes, 0 pruned nodes, max_depth=6\n",
            "[5]#011train-rmse:2.59635\n",
            "[21:07:43] src/tree/updater_prune.cc:74: tree pruning end, 1 roots, 108 extra nodes, 0 pruned nodes, max_depth=6\n",
            "[6]#011train-rmse:2.42714\n",
            "[21:07:43] src/tree/updater_prune.cc:74: tree pruning end, 1 roots, 114 extra nodes, 0 pruned nodes, max_depth=6\n",
            "[7]#011train-rmse:2.31671\n",
            "[21:07:43] src/tree/updater_prune.cc:74: tree pruning end, 1 roots, 94 extra nodes, 0 pruned nodes, max_depth=6\n",
            "[8]#011train-rmse:2.25452\n",
            "[21:07:43] src/tree/updater_prune.cc:74: tree pruning end, 1 roots, 100 extra nodes, 0 pruned nodes, max_depth=6\n",
            "[9]#011train-rmse:2.20587\n",
            "[21:07:43] src/tree/updater_prune.cc:74: tree pruning end, 1 roots, 56 extra nodes, 0 pruned nodes, max_depth=6\n",
            "[10]#011train-rmse:2.18311\n",
            "[21:07:43] src/tree/updater_prune.cc:74: tree pruning end, 1 roots, 92 extra nodes, 0 pruned nodes, max_depth=6\n",
            "[11]#011train-rmse:2.14437\n",
            "[21:07:43] src/tree/updater_prune.cc:74: tree pruning end, 1 roots, 96 extra nodes, 0 pruned nodes, max_depth=6\n",
            "[12]#011train-rmse:2.10197\n",
            "[21:07:43] src/tree/updater_prune.cc:74: tree pruning end, 1 roots, 98 extra nodes, 0 pruned nodes, max_depth=6\n",
            "[13]#011train-rmse:2.07532\n",
            "[21:07:43] src/tree/updater_prune.cc:74: tree pruning end, 1 roots, 68 extra nodes, 0 pruned nodes, max_depth=6\n",
            "[14]#011train-rmse:2.05379\n",
            "[21:07:43] src/tree/updater_prune.cc:74: tree pruning end, 1 roots, 88 extra nodes, 0 pruned nodes, max_depth=6\n",
            "[15]#011train-rmse:2.04505\n",
            "[21:07:43] src/tree/updater_prune.cc:74: tree pruning end, 1 roots, 110 extra nodes, 0 pruned nodes, max_depth=6\n",
            "[16]#011train-rmse:2.00442\n",
            "[21:07:43] src/tree/updater_prune.cc:74: tree pruning end, 1 roots, 84 extra nodes, 0 pruned nodes, max_depth=6\n",
            "[17]#011train-rmse:1.97839\n",
            "[21:07:43] src/tree/updater_prune.cc:74: tree pruning end, 1 roots, 74 extra nodes, 0 pruned nodes, max_depth=6\n",
            "[18]#011train-rmse:1.96207\n",
            "[21:07:43] src/tree/updater_prune.cc:74: tree pruning end, 1 roots, 70 extra nodes, 0 pruned nodes, max_depth=6\n",
            "[19]#011train-rmse:1.94519\n",
            "[21:07:43] src/tree/updater_prune.cc:74: tree pruning end, 1 roots, 46 extra nodes, 0 pruned nodes, max_depth=6\n",
            "[20]#011train-rmse:1.93847\n",
            "[21:07:43] src/tree/updater_prune.cc:74: tree pruning end, 1 roots, 56 extra nodes, 0 pruned nodes, max_depth=6\n",
            "[21]#011train-rmse:1.93034\n",
            "[21:07:43] src/tree/updater_prune.cc:74: tree pruning end, 1 roots, 92 extra nodes, 0 pruned nodes, max_depth=6\n",
            "[22]#011train-rmse:1.90771\n",
            "[21:07:43] src/tree/updater_prune.cc:74: tree pruning end, 1 roots, 68 extra nodes, 0 pruned nodes, max_depth=6\n",
            "[23]#011train-rmse:1.89989\n",
            "[21:07:43] src/tree/updater_prune.cc:74: tree pruning end, 1 roots, 106 extra nodes, 0 pruned nodes, max_depth=6\n",
            "[24]#011train-rmse:1.8642\n",
            "[21:07:43] src/tree/updater_prune.cc:74: tree pruning end, 1 roots, 86 extra nodes, 0 pruned nodes, max_depth=6\n",
            "[25]#011train-rmse:1.84089\n",
            "[21:07:43] src/tree/updater_prune.cc:74: tree pruning end, 1 roots, 92 extra nodes, 0 pruned nodes, max_depth=6\n",
            "[26]#011train-rmse:1.81776\n",
            "[21:07:43] src/tree/updater_prune.cc:74: tree pruning end, 1 roots, 86 extra nodes, 0 pruned nodes, max_depth=6\n",
            "[27]#011train-rmse:1.80087\n",
            "[21:07:43] src/tree/updater_prune.cc:74: tree pruning end, 1 roots, 76 extra nodes, 0 pruned nodes, max_depth=6\n",
            "[28]#011train-rmse:1.78286\n",
            "[21:07:43] src/tree/updater_prune.cc:74: tree pruning end, 1 roots, 72 extra nodes, 0 pruned nodes, max_depth=6\n",
            "[29]#011train-rmse:1.77836\n",
            "[21:07:43] src/tree/updater_prune.cc:74: tree pruning end, 1 roots, 78 extra nodes, 0 pruned nodes, max_depth=6\n",
            "[30]#011train-rmse:1.75677\n",
            "[21:07:43] src/tree/updater_prune.cc:74: tree pruning end, 1 roots, 76 extra nodes, 0 pruned nodes, max_depth=6\n",
            "[31]#011train-rmse:1.74528\n",
            "[21:07:43] src/tree/updater_prune.cc:74: tree pruning end, 1 roots, 58 extra nodes, 0 pruned nodes, max_depth=6\n",
            "[32]#011train-rmse:1.73565\n",
            "[21:07:43] src/tree/updater_prune.cc:74: tree pruning end, 1 roots, 88 extra nodes, 0 pruned nodes, max_depth=6\n",
            "[33]#011train-rmse:1.72161\n",
            "[21:07:43] src/tree/updater_prune.cc:74: tree pruning end, 1 roots, 78 extra nodes, 0 pruned nodes, max_depth=6\n",
            "[34]#011train-rmse:1.71422\n",
            "[21:07:43] src/tree/updater_prune.cc:74: tree pruning end, 1 roots, 96 extra nodes, 0 pruned nodes, max_depth=6\n",
            "[35]#011train-rmse:1.6984\n",
            "[21:07:43] src/tree/updater_prune.cc:74: tree pruning end, 1 roots, 64 extra nodes, 0 pruned nodes, max_depth=6\n",
            "[36]#011train-rmse:1.69082\n",
            "[21:07:43] src/tree/updater_prune.cc:74: tree pruning end, 1 roots, 72 extra nodes, 0 pruned nodes, max_depth=6\n",
            "[37]#011train-rmse:1.67126\n",
            "[21:07:43] src/tree/updater_prune.cc:74: tree pruning end, 1 roots, 90 extra nodes, 0 pruned nodes, max_depth=6\n",
            "[38]#011train-rmse:1.64293\n",
            "[21:07:43] src/tree/updater_prune.cc:74: tree pruning end, 1 roots, 82 extra nodes, 0 pruned nodes, max_depth=6\n",
            "[39]#011train-rmse:1.62104\n",
            "[21:07:43] src/tree/updater_prune.cc:74: tree pruning end, 1 roots, 68 extra nodes, 0 pruned nodes, max_depth=6\n",
            "[40]#011train-rmse:1.60714\n",
            "[21:07:43] src/tree/updater_prune.cc:74: tree pruning end, 1 roots, 62 extra nodes, 0 pruned nodes, max_depth=6\n",
            "[41]#011train-rmse:1.60404\n",
            "[21:07:43] src/tree/updater_prune.cc:74: tree pruning end, 1 roots, 108 extra nodes, 0 pruned nodes, max_depth=6\n",
            "[42]#011train-rmse:1.58023\n",
            "[21:07:43] src/tree/updater_prune.cc:74: tree pruning end, 1 roots, 88 extra nodes, 0 pruned nodes, max_depth=6\n",
            "[43]#011train-rmse:1.56599\n",
            "[21:07:43] src/tree/updater_prune.cc:74: tree pruning end, 1 roots, 92 extra nodes, 0 pruned nodes, max_depth=6\n",
            "[44]#011train-rmse:1.55643\n",
            "[21:07:43] src/tree/updater_prune.cc:74: tree pruning end, 1 roots, 84 extra nodes, 0 pruned nodes, max_depth=6\n",
            "[45]#011train-rmse:1.54384\n",
            "[21:07:43] src/tree/updater_prune.cc:74: tree pruning end, 1 roots, 52 extra nodes, 0 pruned nodes, max_depth=6\n",
            "[46]#011train-rmse:1.54069\n",
            "[21:07:43] src/tree/updater_prune.cc:74: tree pruning end, 1 roots, 68 extra nodes, 0 pruned nodes, max_depth=6\n",
            "[47]#011train-rmse:1.53319\n",
            "[21:07:43] src/tree/updater_prune.cc:74: tree pruning end, 1 roots, 64 extra nodes, 0 pruned nodes, max_depth=6\n",
            "[48]#011train-rmse:1.5281\n",
            "[21:07:43] src/tree/updater_prune.cc:74: tree pruning end, 1 roots, 56 extra nodes, 0 pruned nodes, max_depth=6\n",
            "[49]#011train-rmse:1.52535\n",
            "[21:07:43] src/tree/updater_prune.cc:74: tree pruning end, 1 roots, 100 extra nodes, 0 pruned nodes, max_depth=6\n",
            "[50]#011train-rmse:1.51122\n",
            "[21:07:43] src/tree/updater_prune.cc:74: tree pruning end, 1 roots, 78 extra nodes, 0 pruned nodes, max_depth=6\n",
            "[51]#011train-rmse:1.49524\n",
            "[21:07:43] src/tree/updater_prune.cc:74: tree pruning end, 1 roots, 60 extra nodes, 0 pruned nodes, max_depth=6\n",
            "[52]#011train-rmse:1.48047\n",
            "[21:07:43] src/tree/updater_prune.cc:74: tree pruning end, 1 roots, 66 extra nodes, 0 pruned nodes, max_depth=6\n",
            "[53]#011train-rmse:1.47057\n",
            "[21:07:43] src/tree/updater_prune.cc:74: tree pruning end, 1 roots, 48 extra nodes, 0 pruned nodes, max_depth=6\n",
            "[54]#011train-rmse:1.4677\n",
            "[21:07:43] src/tree/updater_prune.cc:74: tree pruning end, 1 roots, 68 extra nodes, 0 pruned nodes, max_depth=6\n",
            "[55]#011train-rmse:1.45653\n",
            "[21:07:43] src/tree/updater_prune.cc:74: tree pruning end, 1 roots, 70 extra nodes, 0 pruned nodes, max_depth=6\n",
            "[56]#011train-rmse:1.44858\n",
            "[21:07:43] src/tree/updater_prune.cc:74: tree pruning end, 1 roots, 96 extra nodes, 0 pruned nodes, max_depth=6\n",
            "[57]#011train-rmse:1.44355\n",
            "[21:07:43] src/tree/updater_prune.cc:74: tree pruning end, 1 roots, 74 extra nodes, 0 pruned nodes, max_depth=6\n",
            "[58]#011train-rmse:1.43444\n",
            "[21:07:43] src/tree/updater_prune.cc:74: tree pruning end, 1 roots, 80 extra nodes, 0 pruned nodes, max_depth=6\n",
            "[59]#011train-rmse:1.42402\n",
            "[21:07:43] src/tree/updater_prune.cc:74: tree pruning end, 1 roots, 44 extra nodes, 0 pruned nodes, max_depth=6\n",
            "[60]#011train-rmse:1.42318\n",
            "[21:07:43] src/tree/updater_prune.cc:74: tree pruning end, 1 roots, 74 extra nodes, 0 pruned nodes, max_depth=6\n",
            "[61]#011train-rmse:1.41543\n",
            "[21:07:43] src/tree/updater_prune.cc:74: tree pruning end, 1 roots, 98 extra nodes, 0 pruned nodes, max_depth=6\n",
            "[62]#011train-rmse:1.39952\n",
            "[21:07:43] src/tree/updater_prune.cc:74: tree pruning end, 1 roots, 56 extra nodes, 0 pruned nodes, max_depth=6\n",
            "[63]#011train-rmse:1.39881\n",
            "[21:07:43] src/tree/updater_prune.cc:74: tree pruning end, 1 roots, 82 extra nodes, 0 pruned nodes, max_depth=6\n",
            "[64]#011train-rmse:1.39409\n",
            "[21:07:43] src/tree/updater_prune.cc:74: tree pruning end, 1 roots, 72 extra nodes, 0 pruned nodes, max_depth=6\n",
            "[65]#011train-rmse:1.38524\n",
            "[21:07:43] src/tree/updater_prune.cc:74: tree pruning end, 1 roots, 88 extra nodes, 0 pruned nodes, max_depth=6\n",
            "[66]#011train-rmse:1.36896\n",
            "[21:07:43] src/tree/updater_prune.cc:74: tree pruning end, 1 roots, 58 extra nodes, 0 pruned nodes, max_depth=6\n",
            "[67]#011train-rmse:1.36047\n",
            "[21:07:43] src/tree/updater_prune.cc:74: tree pruning end, 1 roots, 94 extra nodes, 0 pruned nodes, max_depth=6\n",
            "[68]#011train-rmse:1.34267\n",
            "[21:07:43] src/tree/updater_prune.cc:74: tree pruning end, 1 roots, 104 extra nodes, 0 pruned nodes, max_depth=6\n",
            "[69]#011train-rmse:1.31508\n",
            "[21:07:43] src/tree/updater_prune.cc:74: tree pruning end, 1 roots, 88 extra nodes, 0 pruned nodes, max_depth=6\n",
            "[70]#011train-rmse:1.30246\n",
            "[21:07:43] src/tree/updater_prune.cc:74: tree pruning end, 1 roots, 80 extra nodes, 0 pruned nodes, max_depth=6\n",
            "[71]#011train-rmse:1.28842\n",
            "[21:07:43] src/tree/updater_prune.cc:74: tree pruning end, 1 roots, 60 extra nodes, 0 pruned nodes, max_depth=6\n",
            "[72]#011train-rmse:1.27848\n",
            "[21:07:43] src/tree/updater_prune.cc:74: tree pruning end, 1 roots, 104 extra nodes, 0 pruned nodes, max_depth=6\n",
            "[73]#011train-rmse:1.26531\n",
            "[21:07:43] src/tree/updater_prune.cc:74: tree pruning end, 1 roots, 52 extra nodes, 0 pruned nodes, max_depth=6\n",
            "[74]#011train-rmse:1.25296\n",
            "[21:07:43] src/tree/updater_prune.cc:74: tree pruning end, 1 roots, 76 extra nodes, 0 pruned nodes, max_depth=6\n",
            "[75]#011train-rmse:1.24621\n",
            "[21:07:43] src/tree/updater_prune.cc:74: tree pruning end, 1 roots, 88 extra nodes, 0 pruned nodes, max_depth=6\n",
            "[76]#011train-rmse:1.23276\n",
            "[21:07:43] src/tree/updater_prune.cc:74: tree pruning end, 1 roots, 62 extra nodes, 0 pruned nodes, max_depth=6\n",
            "[77]#011train-rmse:1.2209\n",
            "[21:07:43] src/tree/updater_prune.cc:74: tree pruning end, 1 roots, 80 extra nodes, 0 pruned nodes, max_depth=6\n",
            "[78]#011train-rmse:1.21344\n",
            "[21:07:43] src/tree/updater_prune.cc:74: tree pruning end, 1 roots, 86 extra nodes, 0 pruned nodes, max_depth=6\n",
            "[79]#011train-rmse:1.20444\n",
            "[21:07:43] src/tree/updater_prune.cc:74: tree pruning end, 1 roots, 42 extra nodes, 0 pruned nodes, max_depth=6\n",
            "[80]#011train-rmse:1.19649\n",
            "[21:07:43] src/tree/updater_prune.cc:74: tree pruning end, 1 roots, 102 extra nodes, 0 pruned nodes, max_depth=6\n",
            "[81]#011train-rmse:1.18599\n",
            "[21:07:43] src/tree/updater_prune.cc:74: tree pruning end, 1 roots, 64 extra nodes, 0 pruned nodes, max_depth=6\n",
            "[82]#011train-rmse:1.17887\n",
            "[21:07:43] src/tree/updater_prune.cc:74: tree pruning end, 1 roots, 80 extra nodes, 0 pruned nodes, max_depth=6\n",
            "[83]#011train-rmse:1.17286\n",
            "[21:07:43] src/tree/updater_prune.cc:74: tree pruning end, 1 roots, 82 extra nodes, 0 pruned nodes, max_depth=6\n",
            "[84]#011train-rmse:1.16047\n",
            "[21:07:43] src/tree/updater_prune.cc:74: tree pruning end, 1 roots, 66 extra nodes, 0 pruned nodes, max_depth=6\n",
            "[85]#011train-rmse:1.14978\n",
            "[21:07:43] src/tree/updater_prune.cc:74: tree pruning end, 1 roots, 52 extra nodes, 0 pruned nodes, max_depth=6\n",
            "[86]#011train-rmse:1.14834\n",
            "[21:07:43] src/tree/updater_prune.cc:74: tree pruning end, 1 roots, 112 extra nodes, 0 pruned nodes, max_depth=6\n",
            "[87]#011train-rmse:1.13572\n",
            "[21:07:43] src/tree/updater_prune.cc:74: tree pruning end, 1 roots, 90 extra nodes, 0 pruned nodes, max_depth=6\n",
            "[88]#011train-rmse:1.12483\n",
            "[21:07:43] src/tree/updater_prune.cc:74: tree pruning end, 1 roots, 96 extra nodes, 0 pruned nodes, max_depth=6\n",
            "[89]#011train-rmse:1.11066\n",
            "[21:07:43] src/tree/updater_prune.cc:74: tree pruning end, 1 roots, 104 extra nodes, 0 pruned nodes, max_depth=6\n",
            "[90]#011train-rmse:1.10293\n",
            "[21:07:43] src/tree/updater_prune.cc:74: tree pruning end, 1 roots, 72 extra nodes, 0 pruned nodes, max_depth=6\n",
            "[91]#011train-rmse:1.09791\n",
            "[21:07:43] src/tree/updater_prune.cc:74: tree pruning end, 1 roots, 96 extra nodes, 0 pruned nodes, max_depth=6\n",
            "[92]#011train-rmse:1.08333\n",
            "[21:07:43] src/tree/updater_prune.cc:74: tree pruning end, 1 roots, 50 extra nodes, 0 pruned nodes, max_depth=6\n",
            "[93]#011train-rmse:1.08084\n",
            "[21:07:43] src/tree/updater_prune.cc:74: tree pruning end, 1 roots, 100 extra nodes, 0 pruned nodes, max_depth=6\n",
            "[94]#011train-rmse:1.07021\n",
            "[21:07:43] src/tree/updater_prune.cc:74: tree pruning end, 1 roots, 74 extra nodes, 0 pruned nodes, max_depth=6\n",
            "[95]#011train-rmse:1.06674\n",
            "[21:07:43] src/tree/updater_prune.cc:74: tree pruning end, 1 roots, 72 extra nodes, 0 pruned nodes, max_depth=6\n",
            "[96]#011train-rmse:1.06233\n",
            "[21:07:43] src/tree/updater_prune.cc:74: tree pruning end, 1 roots, 68 extra nodes, 0 pruned nodes, max_depth=6\n",
            "[97]#011train-rmse:1.05839\n",
            "[21:07:43] src/tree/updater_prune.cc:74: tree pruning end, 1 roots, 82 extra nodes, 0 pruned nodes, max_depth=6\n",
            "[98]#011train-rmse:1.05325\n",
            "[21:07:43] src/tree/updater_prune.cc:74: tree pruning end, 1 roots, 58 extra nodes, 0 pruned nodes, max_depth=6\n",
            "[99]#011train-rmse:1.05066\n",
            "\n",
            "2022-09-04 21:08:06 Completed - Training job completed\n",
            "Training seconds: 132\n",
            "Billable seconds: 132"
          ]
        }
      ],
      "source": [
        "train_channel = sagemaker.session.s3_input(s3_train + 'part', content_type='text/csv')\n",
        "estimator.fit({'train': train_channel})"
      ]
    },
    {
      "cell_type": "markdown",
      "metadata": {
        "id": "WvZHPSXfepO5"
      },
      "source": [
        "## Inference Results"
      ]
    },
    {
      "cell_type": "markdown",
      "metadata": {
        "id": "SRzVXFJSepO6"
      },
      "source": [
        "How well did our model perform? Let's see how it does on the test data set we saved to S3 earlier. We'll use [SageMaker batch transform](https://docs.aws.amazon.com/sagemaker/latest/dg/batch-transform.html) to run our test data set through our model. Batch transform creates a SageMaker instance, deploys the model, runs the dataset through the model, then takes down the instance. "
      ]
    },
    {
      "cell_type": "code",
      "execution_count": null,
      "metadata": {
        "colab": {
          "referenced_widgets": [
            "4b226c80d480410b9073f7fda1acb736",
            ""
          ]
        },
        "id": "uYIZiKTkepO6",
        "outputId": "eb47b218-b93b-432e-f216-de3b91c81fa9"
      },
      "outputs": [
        {
          "data": {
            "application/vnd.jupyter.widget-view+json": {
              "model_id": "4b226c80d480410b9073f7fda1acb736",
              "version_major": 2,
              "version_minor": 0
            },
            "text/plain": [
              "VBox()"
            ]
          },
          "metadata": {},
          "output_type": "display_data"
        },
        {
          "data": {
            "application/vnd.jupyter.widget-view+json": {
              "model_id": "",
              "version_major": 2,
              "version_minor": 0
            },
            "text/plain": [
              "FloatProgress(value=0.0, bar_style='info', description='Progress:', layout=Layout(height='25px', width='50%'),…"
            ]
          },
          "metadata": {},
          "output_type": "display_data"
        },
        {
          "name": "stdout",
          "output_type": "stream",
          "text": [
            "SageMaker batch transform initialized with the following parameters:\n",
            "model_name:xgboost-2022-09-04-21-29-25-562\n",
            "strategy:MultiRecord\n",
            "env:None\n",
            "output_path:s3://sagemaker-us-east-2-123456789123/inference/\n",
            "output_kms_key:None\n",
            "accept:text/csv\n",
            "assemble_with:Line\n",
            "instance_count:1\n",
            "instance_type:ml.m5.large\n",
            "volume_kms_key:None\n",
            "max_concurrent_transforms:None\n",
            "max_payload:None\n",
            "tags:None\n",
            "base_transform_job_name:xgboost\n",
            "_current_job_name:None\n",
            "latest_transform_job:None\n",
            "_reset_output_path:False\n",
            "sagemaker_session:<sagemaker.session.Session object at 0x7f62002ceb50>"
          ]
        }
      ],
      "source": [
        "s3_inference = s3_train.replace('train', 'inference')\n",
        "\n",
        "transformer = estimator.transformer(\n",
        "    instance_count = 1,\n",
        "    instance_type = 'ml.m5.large',\n",
        "    strategy = 'MultiRecord',\n",
        "    output_path = s3_inference,\n",
        "    assemble_with= 'Line',\n",
        "    accept=('text/'+data_format)\n",
        ")\n",
        "\n",
        "print('SageMaker batch transform initialized with the following parameters:')\n",
        "for key in transformer.__dict__:\n",
        "    print('{}:{}'.format(key, transformer.__dict__[key]))"
      ]
    },
    {
      "cell_type": "markdown",
      "metadata": {
        "id": "cm0AWxo5epO6"
      },
      "source": [
        "The transform() function initiates the SageMaker batch transform job. SageMaker will create an inference instance, run the specified test set through the model, save the results to S3, and take down the inference instance. Batch transform is a great option if you require inference for large datasets and don't need sub-second response time.\n",
        "\n",
        "This usually takes 3 minutes. \n",
        "\n",
        "(**Optional**) While you wait, you may check the batch transform progress through the SageMaker console by following these instructions:  \n",
        "a.\tOpen SageMaker console in AWS.  \n",
        "b.\tOn the left panel, scroll until you see ‘Batch transform jobs’ beneath the ‘Inference’ section.  \n",
        "c.\tClick into the job to examine further details; wait until you see the status change to ‘Completed’."
      ]
    },
    {
      "cell_type": "code",
      "execution_count": null,
      "metadata": {
        "colab": {
          "referenced_widgets": [
            "f0895e3821594766a37bcf04a1ffd5bc",
            ""
          ]
        },
        "id": "uEymaNtXepO6",
        "outputId": "48e61f50-3155-4267-c152-ccbbc78a80d3"
      },
      "outputs": [
        {
          "data": {
            "application/vnd.jupyter.widget-view+json": {
              "model_id": "f0895e3821594766a37bcf04a1ffd5bc",
              "version_major": 2,
              "version_minor": 0
            },
            "text/plain": [
              "VBox()"
            ]
          },
          "metadata": {},
          "output_type": "display_data"
        },
        {
          "data": {
            "application/vnd.jupyter.widget-view+json": {
              "model_id": "",
              "version_major": 2,
              "version_minor": 0
            },
            "text/plain": [
              "FloatProgress(value=0.0, bar_style='info', description='Progress:', layout=Layout(height='25px', width='50%'),…"
            ]
          },
          "metadata": {},
          "output_type": "display_data"
        },
        {
          "name": "stdout",
          "output_type": "stream",
          "text": [
            "..........................\n",
            "Arguments: serve\n",
            "[2022-09-04 21:36:13 +0000] [1] [INFO] Starting gunicorn 19.9.0\n",
            "[2022-09-04 21:36:13 +0000] [1] [INFO] Listening at: http://0.0.0.0:8080 (1)\n",
            "[2022-09-04 21:36:13 +0000] [1] [INFO] Using worker: gevent\n",
            "[2022-09-04 21:36:13 +0000] [20] [INFO] Booting worker with pid: 20\n",
            "[2022-09-04 21:36:13 +0000] [21] [INFO] Booting worker with pid: 21\n",
            "/opt/amazon/lib/python3.7/site-packages/gunicorn/workers/ggevent.py:65: MonkeyPatchWarning: Monkey-patching ssl after ssl has already been imported may lead to errors, including RecursionError on Python 3.6. It may also silently lead to incorrect behaviour on Python 3.7. Please monkey-patch earlier. See https://github.com/gevent/gevent/issues/1016. Modules that had direct imports (NOT patched): ['urllib3.util (/opt/amazon/lib/python3.7/site-packages/urllib3/util/__init__.py)', 'urllib3.util.ssl_ (/opt/amazon/lib/python3.7/site-packages/urllib3/util/ssl_.py)']. \n",
            "  monkey.patch_all(subprocess=True)\n",
            "/opt/amazon/lib/python3.7/site-packages/gunicorn/workers/ggevent.py:65: MonkeyPatchWarning: Monkey-patching ssl after ssl has already been imported may lead to errors, including RecursionError on Python 3.6. It may also silently lead to incorrect behaviour on Python 3.7. Please monkey-patch earlier. See https://github.com/gevent/gevent/issues/1016. Modules that had direct imports (NOT patched): ['urllib3.util (/opt/amazon/lib/python3.7/site-packages/urllib3/util/__init__.py)', 'urllib3.util.ssl_ (/opt/amazon/lib/python3.7/site-packages/urllib3/util/ssl_.py)']. \n",
            "  monkey.patch_all(subprocess=True)\n",
            "[2022-09-04:21:36:13:INFO] Model loaded successfully for worker : 20\n",
            "[2022-09-04:21:36:13:INFO] Model loaded successfully for worker : 21\n",
            "Arguments: serve\n",
            "[2022-09-04 21:36:13 +0000] [1] [INFO] Starting gunicorn 19.9.0\n",
            "[2022-09-04 21:36:13 +0000] [1] [INFO] Listening at: http://0.0.0.0:8080 (1)\n",
            "[2022-09-04 21:36:13 +0000] [1] [INFO] Using worker: gevent\n",
            "[2022-09-04 21:36:13 +0000] [20] [INFO] Booting worker with pid: 20\n",
            "[2022-09-04 21:36:13 +0000] [21] [INFO] Booting worker with pid: 21\n",
            "/opt/amazon/lib/python3.7/site-packages/gunicorn/workers/ggevent.py:65: MonkeyPatchWarning: Monkey-patching ssl after ssl has already been imported may lead to errors, including RecursionError on Python 3.6. It may also silently lead to incorrect behaviour on Python 3.7. Please monkey-patch earlier. See https://github.com/gevent/gevent/issues/1016. Modules that had direct imports (NOT patched): ['urllib3.util (/opt/amazon/lib/python3.7/site-packages/urllib3/util/__init__.py)', 'urllib3.util.ssl_ (/opt/amazon/lib/python3.7/site-packages/urllib3/util/ssl_.py)']. \n",
            "  monkey.patch_all(subprocess=True)\n",
            "/opt/amazon/lib/python3.7/site-packages/gunicorn/workers/ggevent.py:65: MonkeyPatchWarning: Monkey-patching ssl after ssl has already been imported may lead to errors, including RecursionError on Python 3.6. It may also silently lead to incorrect behaviour on Python 3.7. Please monkey-patch earlier. See https://github.com/gevent/gevent/issues/1016. Modules that had direct imports (NOT patched): ['urllib3.util (/opt/amazon/lib/python3.7/site-packages/urllib3/util/__init__.py)', 'urllib3.util.ssl_ (/opt/amazon/lib/python3.7/site-packages/urllib3/util/ssl_.py)']. \n",
            "  monkey.patch_all(subprocess=True)\n",
            "[2022-09-04:21:36:13:INFO] Model loaded successfully for worker : 20\n",
            "[2022-09-04:21:36:13:INFO] Model loaded successfully for worker : 21\n",
            "[2022-09-04:21:36:19:INFO] Sniff delimiter as ','\n",
            "[2022-09-04:21:36:19:INFO] Determined delimiter of CSV input is ','\n",
            "[2022-09-04:21:36:19:INFO] Sniff delimiter as ','\n",
            "[2022-09-04:21:36:19:INFO] Determined delimiter of CSV input is ','\n",
            "[2022-09-04:21:36:19:INFO] Sniff delimiter as ','\n",
            "[2022-09-04:21:36:19:INFO] Determined delimiter of CSV input is ','\n",
            "[2022-09-04:21:36:19:INFO] Sniff delimiter as ','\n",
            "[2022-09-04:21:36:19:INFO] Determined delimiter of CSV input is ','\n",
            "[2022-09-04:21:36:19:INFO] Sniff delimiter as ','\n",
            "[2022-09-04:21:36:19:INFO] Determined delimiter of CSV input is ','\n",
            "[2022-09-04:21:36:19:INFO] Sniff delimiter as ','\n",
            "[2022-09-04:21:36:19:INFO] Determined delimiter of CSV input is ','\n",
            "[2022-09-04:21:36:19:INFO] Sniff delimiter as ','\n",
            "[2022-09-04:21:36:19:INFO] Determined delimiter of CSV input is ','\n",
            "[2022-09-04:21:36:19:INFO] Sniff delimiter as ','\n",
            "[2022-09-04:21:36:19:INFO] Determined delimiter of CSV input is ','\n",
            "[2022-09-04:21:36:20:INFO] Sniff delimiter as ','\n",
            "[2022-09-04:21:36:20:INFO] Determined delimiter of CSV input is ','\n",
            "[2022-09-04:21:36:20:INFO] Sniff delimiter as ','\n",
            "[2022-09-04:21:36:20:INFO] Determined delimiter of CSV input is ','\n",
            "[2022-09-04:21:36:20:INFO] Sniff delimiter as ','\n",
            "[2022-09-04:21:36:20:INFO] Determined delimiter of CSV input is ','\n",
            "[2022-09-04:21:36:20:INFO] Sniff delimiter as ','\n",
            "[2022-09-04:21:36:20:INFO] Determined delimiter of CSV input is ','\n",
            "[2022-09-04:21:36:20:INFO] Sniff delimiter as ','\n",
            "[2022-09-04:21:36:20:INFO] Determined delimiter of CSV input is ','\n",
            "[2022-09-04:21:36:19:INFO] Sniff delimiter as ','\n",
            "[2022-09-04:21:36:19:INFO] Determined delimiter of CSV input is ','\n",
            "[2022-09-04:21:36:19:INFO] Sniff delimiter as ','\n",
            "[2022-09-04:21:36:19:INFO] Determined delimiter of CSV input is ','\n",
            "[2022-09-04:21:36:19:INFO] Sniff delimiter as ','\n",
            "[2022-09-04:21:36:19:INFO] Determined delimiter of CSV input is ','\n",
            "[2022-09-04:21:36:19:INFO] Sniff delimiter as ','\n",
            "[2022-09-04:21:36:19:INFO] Determined delimiter of CSV input is ','\n",
            "[2022-09-04:21:36:19:INFO] Sniff delimiter as ','\n",
            "[2022-09-04:21:36:19:INFO] Determined delimiter of CSV input is ','\n",
            "[2022-09-04:21:36:19:INFO] Sniff delimiter as ','\n",
            "[2022-09-04:21:36:19:INFO] Determined delimiter of CSV input is ','\n",
            "[2022-09-04:21:36:20:INFO] Sniff delimiter as ','\n",
            "[2022-09-04:21:36:20:INFO] Determined delimiter of CSV input is ','\n",
            "[2022-09-04:21:36:20:INFO] Sniff delimiter as ','\n",
            "[2022-09-04:21:36:20:INFO] Determined delimiter of CSV input is ','\n",
            "[2022-09-04:21:36:20:INFO] Sniff delimiter as ','\n",
            "[2022-09-04:21:36:20:INFO] Determined delimiter of CSV input is ','\n",
            "[2022-09-04:21:36:20:INFO] Sniff delimiter as ','\n",
            "[2022-09-04:21:36:20:INFO] Determined delimiter of CSV input is ','\n",
            "[2022-09-04:21:36:20:INFO] Sniff delimiter as ','\n",
            "[2022-09-04:21:36:20:INFO] Determined delimiter of CSV input is ','\n",
            "2022-09-04T21:36:19.242:[sagemaker logs]: MaxConcurrentTransforms=2, MaxPayloadInMB=6, BatchStrategy=MULTI_RECORD"
          ]
        }
      ],
      "source": [
        "# The test data set still contains the \"Rings\" column the model tries to predict. \n",
        "# We do not want to send this column to the model, though. We use the SageMaker\n",
        "# input_filter to filter out that column before sending to the model. We then\n",
        "# join the model output with the input so we can compare the actual Rings count\n",
        "# to the predicted count.\n",
        "transformer.transform(\n",
        "    data=s3_test,\n",
        "    content_type='text/csv',\n",
        "    split_type='Line',\n",
        "    input_filter='$[1:]',\n",
        "    join_source='Input',\n",
        "    wait=True\n",
        ")"
      ]
    },
    {
      "cell_type": "markdown",
      "metadata": {
        "id": "Lr-RhGOTepO7"
      },
      "source": [
        "SageMaker batch transform completed and saved the model inference results to S3. Now let's pull the results in to Spark for analysis."
      ]
    },
    {
      "cell_type": "code",
      "execution_count": null,
      "metadata": {
        "colab": {
          "referenced_widgets": [
            "d21837ea88e14876ab1a0b7d0acbfbaa",
            ""
          ]
        },
        "id": "IeYQq4zHepO7",
        "outputId": "48a4bc56-3e59-4b09-b430-a8a301bfee90"
      },
      "outputs": [
        {
          "data": {
            "application/vnd.jupyter.widget-view+json": {
              "model_id": "d21837ea88e14876ab1a0b7d0acbfbaa",
              "version_major": 2,
              "version_minor": 0
            },
            "text/plain": [
              "VBox()"
            ]
          },
          "metadata": {},
          "output_type": "display_data"
        },
        {
          "data": {
            "application/vnd.jupyter.widget-view+json": {
              "model_id": "",
              "version_major": 2,
              "version_minor": 0
            },
            "text/plain": [
              "FloatProgress(value=0.0, bar_style='info', description='Progress:', layout=Layout(height='25px', width='50%'),…"
            ]
          },
          "metadata": {},
          "output_type": "display_data"
        },
        {
          "name": "stdout",
          "output_type": "stream",
          "text": [
            "+-----+------+--------+------+----+------+------+-------------------+---------------+\n",
            "|Rings|Length|Diameter|Height|Male|Female|Infant|  Difference_weight|Estimated_rings|\n",
            "+-----+------+--------+------+----+------+------+-------------------+---------------+\n",
            "|    7| 0.585|    0.45|  0.15|   0|     1|     0|              0.713|        8.82553|\n",
            "|    5|  0.32|    0.24|  0.09|   0|     0|     1|0.11499999999999999|      7.1119366|\n",
            "|    8| 0.495|   0.375| 0.115|   0|     0|     1|              0.357|       8.400801|\n",
            "|   10|   0.7|   0.545| 0.215|   1|     0|     0|             1.4065|      14.053736|\n",
            "|   11|  0.62|   0.505|  0.16|   0|     1|     0|              1.004|      10.213006|\n",
            "+-----+------+--------+------+----+------+------+-------------------+---------------+\n",
            "only showing top 5 rows"
          ]
        }
      ],
      "source": [
        "from copy import deepcopy\n",
        "from pyspark.sql.types import FloatType\n",
        "\n",
        "# Read the schema from the initial dataset so you can apply it to the inference data.\n",
        "schema = deepcopy(abalone_data.schema)\n",
        "schema.add(\"Estimated_rings\", FloatType())\n",
        "\n",
        "# Pull down the inference data from S3\n",
        "inference_data = spark.read.load(s3_inference, format=data_format, schema=schema).repartition(num_workers)\n",
        "inference_data.show(n=5)"
      ]
    },
    {
      "cell_type": "markdown",
      "metadata": {
        "id": "nTgAlDKfepO7"
      },
      "source": [
        "Now that we have our results, we need to quantify our model's performance. We will use root mean square error (RMSE) to measure how close Estimated_rings is to the actual Rings value.\n",
        "\n",
        "RMSE is a popular way to measure how closely a regression model predicts a response. A lower RMSE indicates a closer prediction.\n",
        "\n",
        "Here is the equation for RMSE:\n",
        "\n",
        "\\begin{equation*}\n",
        "RMSE = \\sqrt{\\frac{\\sum_{i=1}^n (\\hat{y_i}-y_i)^2}{N}}\n",
        "\\end{equation*}\n",
        "\n",
        "where $\\hat{y_i}$ is the number of predicted rings, $y_i$ is the observed number of rings, and N is the number of rows in the test data set.\n",
        "\n",
        "We'll use Spark SQL to run a SQL query on our data to calculate the RMSE."
      ]
    },
    {
      "cell_type": "code",
      "execution_count": null,
      "metadata": {
        "colab": {
          "referenced_widgets": [
            "1ad7335561754e8fb357735289567b72",
            ""
          ]
        },
        "id": "-R9Izw4yepO7",
        "outputId": "c18584d2-20a4-401e-d77f-e2fe0a758a3d"
      },
      "outputs": [
        {
          "data": {
            "application/vnd.jupyter.widget-view+json": {
              "model_id": "1ad7335561754e8fb357735289567b72",
              "version_major": 2,
              "version_minor": 0
            },
            "text/plain": [
              "VBox()"
            ]
          },
          "metadata": {},
          "output_type": "display_data"
        },
        {
          "data": {
            "application/vnd.jupyter.widget-view+json": {
              "model_id": "",
              "version_major": 2,
              "version_minor": 0
            },
            "text/plain": [
              "FloatProgress(value=0.0, bar_style='info', description='Progress:', layout=Layout(height='25px', width='50%'),…"
            ]
          },
          "metadata": {},
          "output_type": "display_data"
        },
        {
          "name": "stdout",
          "output_type": "stream",
          "text": [
            "+-----------------+\n",
            "|             RMSE|\n",
            "+-----------------+\n",
            "|2.500344013677357|\n",
            "+-----------------+"
          ]
        }
      ],
      "source": [
        "rings = inference_data.schema.names[0]\n",
        "predicted_rings = inference_data.schema.names[-1]\n",
        "table_name = 'inference'\n",
        "\n",
        "inference_data.registerTempTable(table_name)\n",
        "sql_rmse = 'SELECT SQRT(AVG(POWER({}-{}, 2))) AS RMSE FROM {}'.format(rings, predicted_rings, table_name)\n",
        "\n",
        "rmse_results = spark.sql(sql_rmse)\n",
        "rmse_results.show()"
      ]
    },
    {
      "cell_type": "markdown",
      "metadata": {
        "id": "e4DBoukbepO8"
      },
      "source": [
        "## Wrap-Up\n",
        "Congratulations! You processed data in Apache Spark on EMR and trained and deployed a machine learning model in Amazon SageMaker! Feel free to try different combinations of models and hyperparameters to see if you can reduce your model's RMSE."
      ]
    }
  ],
  "metadata": {
    "kernelspec": {
      "display_name": "PySpark",
      "language": "python",
      "name": "pysparkkernel"
    },
    "language_info": {
      "codemirror_mode": {
        "name": "python",
        "version": 3
      },
      "file_extension": ".py",
      "mimetype": "text/x-python",
      "name": "pyspark",
      "pygments_lexer": "python3"
    },
    "notice": "Copyright 2017 Amazon.com, Inc. or its affiliates. All Rights Reserved.  Licensed under the Apache License, Version 2.0 (the \"License\"). You may not use this file except in compliance with the License. A copy of the License is located at http://aws.amazon.com/apache2.0/ or in the \"license\" file accompanying this file. This file is distributed on an \"AS IS\" BASIS, WITHOUT WARRANTIES OR CONDITIONS OF ANY KIND, either express or implied. See the License for the specific language governing permissions and limitations under the License.",
    "colab": {
      "provenance": [],
      "include_colab_link": true
    }
  },
  "nbformat": 4,
  "nbformat_minor": 0
}