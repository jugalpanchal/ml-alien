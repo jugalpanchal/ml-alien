{
  "nbformat": 4,
  "nbformat_minor": 0,
  "metadata": {
    "colab": {
      "name": "support_vector_regression.ipynb",
      "provenance": [],
      "collapsed_sections": [],
      "toc_visible": true,
      "include_colab_link": true
    },
    "kernelspec": {
      "name": "python3",
      "display_name": "Python 3"
    }
  },
  "cells": [
    {
      "cell_type": "markdown",
      "metadata": {
        "id": "view-in-github",
        "colab_type": "text"
      },
      "source": [
        "<a href=\"https://colab.research.google.com/github/jugalpanchal/ml-alien/blob/main/regression/support_vector.ipynb\" target=\"_parent\"><img src=\"https://colab.research.google.com/assets/colab-badge.svg\" alt=\"Open In Colab\"/></a>"
      ]
    },
    {
      "cell_type": "markdown",
      "metadata": {
        "id": "m3PAEPRDRLA3"
      },
      "source": [
        "# Support Vector Regression (SVR)"
      ]
    },
    {
      "cell_type": "markdown",
      "metadata": {
        "id": "0VCUAVIjRdzZ"
      },
      "source": [
        "## Importing the libraries"
      ]
    },
    {
      "cell_type": "code",
      "metadata": {
        "id": "56oRF-QfSDzC"
      },
      "source": [
        "import numpy as np\n",
        "import matplotlib.pyplot as plt\n",
        "import pandas as pd"
      ],
      "execution_count": 86,
      "outputs": []
    },
    {
      "cell_type": "markdown",
      "metadata": {
        "id": "fXVXoFWtSF4_"
      },
      "source": [
        "## Importing the dataset"
      ]
    },
    {
      "cell_type": "code",
      "metadata": {
        "id": "xfoa8OSORfHQ"
      },
      "source": [
        "dataset = pd.read_csv('Position_Salaries.csv')\n",
        "X = dataset.iloc[:, 1:-1].values\n",
        "y = dataset.iloc[:, -1].values"
      ],
      "execution_count": 87,
      "outputs": []
    },
    {
      "cell_type": "code",
      "metadata": {
        "id": "fAWJV6gpiTYM",
        "colab": {
          "base_uri": "https://localhost:8080/"
        },
        "outputId": "e83e5242-877a-4f63-be78-222eaa871b53"
      },
      "source": [
        "print(X)"
      ],
      "execution_count": 88,
      "outputs": [
        {
          "output_type": "stream",
          "text": [
            "[[ 1]\n",
            " [ 2]\n",
            " [ 3]\n",
            " [ 4]\n",
            " [ 5]\n",
            " [ 6]\n",
            " [ 7]\n",
            " [ 8]\n",
            " [ 9]\n",
            " [10]]\n"
          ],
          "name": "stdout"
        }
      ]
    },
    {
      "cell_type": "code",
      "metadata": {
        "id": "P1CzeAyRiU3c",
        "colab": {
          "base_uri": "https://localhost:8080/"
        },
        "outputId": "49a21468-1953-46bc-ebbf-1d708a34c5d5"
      },
      "source": [
        "print(y)"
      ],
      "execution_count": 89,
      "outputs": [
        {
          "output_type": "stream",
          "text": [
            "[  45000   50000   60000   80000  110000  150000  200000  300000  500000\n",
            " 1000000]\n"
          ],
          "name": "stdout"
        }
      ]
    },
    {
      "cell_type": "code",
      "metadata": {
        "id": "_8Ny1GfPiV3m",
        "outputId": "6e0fe0b8-e146-481b-8d7a-5aca50a37fa7",
        "colab": {
          "base_uri": "https://localhost:8080/"
        }
      },
      "source": [
        "y = y.reshape(len(y),1) # 10 rows and 1 column\n",
        "print(y)"
      ],
      "execution_count": 90,
      "outputs": [
        {
          "output_type": "stream",
          "text": [
            "[[  45000]\n",
            " [  50000]\n",
            " [  60000]\n",
            " [  80000]\n",
            " [ 110000]\n",
            " [ 150000]\n",
            " [ 200000]\n",
            " [ 300000]\n",
            " [ 500000]\n",
            " [1000000]]\n"
          ],
          "name": "stdout"
        }
      ]
    },
    {
      "cell_type": "markdown",
      "metadata": {
        "id": "YS8FeLHYS-nI"
      },
      "source": [
        "## Feature Scaling - Standardisation transform values into -2 to 2 or -2 to 3"
      ]
    },
    {
      "cell_type": "code",
      "metadata": {
        "id": "PGeAlD1HTDI1"
      },
      "source": [
        "# It transforms the actual values into -2 to 2 or -3 to 3 inbetween.\n",
        "from sklearn.preprocessing import StandardScaler\n",
        "sc_X = StandardScaler()\n",
        "sc_y = StandardScaler()\n",
        "X = sc_X.fit_transform(X)\n",
        "y = sc_y.fit_transform(y)"
      ],
      "execution_count": 91,
      "outputs": []
    },
    {
      "cell_type": "code",
      "metadata": {
        "id": "nXa8Z9FgjFTQ",
        "colab": {
          "base_uri": "https://localhost:8080/"
        },
        "outputId": "6cdcda7a-86f5-4d70-8371-a9f9cb7eb818"
      },
      "source": [
        "print(X)"
      ],
      "execution_count": 92,
      "outputs": [
        {
          "output_type": "stream",
          "text": [
            "[[-1.5666989 ]\n",
            " [-1.21854359]\n",
            " [-0.87038828]\n",
            " [-0.52223297]\n",
            " [-0.17407766]\n",
            " [ 0.17407766]\n",
            " [ 0.52223297]\n",
            " [ 0.87038828]\n",
            " [ 1.21854359]\n",
            " [ 1.5666989 ]]\n"
          ],
          "name": "stdout"
        }
      ]
    },
    {
      "cell_type": "code",
      "metadata": {
        "id": "i7Oo2kybjGr2",
        "colab": {
          "base_uri": "https://localhost:8080/"
        },
        "outputId": "909b32ea-d288-4251-8773-07b05155b18f"
      },
      "source": [
        "print(y)"
      ],
      "execution_count": 93,
      "outputs": [
        {
          "output_type": "stream",
          "text": [
            "[[-0.72004253]\n",
            " [-0.70243757]\n",
            " [-0.66722767]\n",
            " [-0.59680786]\n",
            " [-0.49117815]\n",
            " [-0.35033854]\n",
            " [-0.17428902]\n",
            " [ 0.17781001]\n",
            " [ 0.88200808]\n",
            " [ 2.64250325]]\n"
          ],
          "name": "stdout"
        }
      ]
    },
    {
      "cell_type": "markdown",
      "metadata": {
        "id": "eiU6D2QFRjxY"
      },
      "source": [
        "## Training the SVR model on the whole dataset"
      ]
    },
    {
      "cell_type": "code",
      "metadata": {
        "id": "y6R4rt_GRz15",
        "colab": {
          "base_uri": "https://localhost:8080/"
        },
        "outputId": "d042bd2d-1b1b-461d-aa79-c1113b20375a"
      },
      "source": [
        "from sklearn.svm import SVR\n",
        "regressor = SVR(kernel = 'rbf') # https://data-flair.training/blogs/svm-kernel-functions/\n",
        "regressor.fit(X, y) # train the regression object model"
      ],
      "execution_count": 94,
      "outputs": [
        {
          "output_type": "stream",
          "text": [
            "/usr/local/lib/python3.7/dist-packages/sklearn/utils/validation.py:760: DataConversionWarning: A column-vector y was passed when a 1d array was expected. Please change the shape of y to (n_samples, ), for example using ravel().\n",
            "  y = column_or_1d(y, warn=True)\n"
          ],
          "name": "stderr"
        },
        {
          "output_type": "execute_result",
          "data": {
            "text/plain": [
              "SVR(C=1.0, cache_size=200, coef0=0.0, degree=3, epsilon=0.1, gamma='scale',\n",
              "    kernel='rbf', max_iter=-1, shrinking=True, tol=0.001, verbose=False)"
            ]
          },
          "metadata": {
            "tags": []
          },
          "execution_count": 94
        }
      ]
    },
    {
      "cell_type": "markdown",
      "metadata": {
        "id": "deDnDr8UR5vq"
      },
      "source": [
        "## Predicting a new result"
      ]
    },
    {
      "cell_type": "code",
      "metadata": {
        "id": "ib89-Fq8R8v-",
        "colab": {
          "base_uri": "https://localhost:8080/"
        },
        "outputId": "cbbae405-ff60-4c5f-fa4c-7733db65d373"
      },
      "source": [
        "# since we have used the scalling while traing the model so we need to scale(by using the same scaller) the new feature(input) value before predict a dependent value.\n",
        "feature_new_val = sc_X.transform([[6.5]]) \n",
        "print('feature_new_val', feature_new_val)\n",
        "\n",
        "pred_dep_val = regressor.predict(feature_new_val) # predict a dependent value of 6.5 but it would give a result in the scaller range.\n",
        "print('pred_dep_val', pred_dep_val)\n",
        "\n",
        "# since we used the scalling while training the model so we need to use the same scaller to inverse the value to get real value.\n",
        "sc_y.inverse_transform(pred_dep_val) # It prints a value without a print statement."
      ],
      "execution_count": 95,
      "outputs": [
        {
          "output_type": "stream",
          "text": [
            "feature_new_val [[0.34815531]]\n",
            "pred_dep_val [-0.27861589]\n"
          ],
          "name": "stdout"
        },
        {
          "output_type": "execute_result",
          "data": {
            "text/plain": [
              "array([170370.0204065])"
            ]
          },
          "metadata": {
            "tags": []
          },
          "execution_count": 95
        }
      ]
    },
    {
      "cell_type": "markdown",
      "metadata": {
        "id": "zzedFlUISSu_"
      },
      "source": [
        "## Visualising the SVR results"
      ]
    },
    {
      "cell_type": "code",
      "metadata": {
        "id": "OWPRGsKpSW9U",
        "colab": {
          "base_uri": "https://localhost:8080/",
          "height": 295
        },
        "outputId": "87a206ba-8299-48e9-ffcc-0f0ae1aca480"
      },
      "source": [
        "scale_inverse_x = sc_X.inverse_transform(X) # inverse the scalling values into the real values\n",
        "scale_inverse_y = sc_y.inverse_transform(y) # inverse the scalling values into the real values\n",
        "plt.scatter(scale_inverse_x, scale_inverse_y, color = 'red') # it would plot with real(inverse) values.\n",
        "\n",
        "pred_sal_in_scale = regressor.predict(X) # X was scalled and replaced to the real value so it is already in the scale feature value.\n",
        "pred_sal_in_real = sc_y.inverse_transform(pred_sal_in_scale) # inverse the scalled value into a real value\n",
        "plt.plot(scale_inverse_x, pred_sal_in_real , color = 'blue')\n",
        "\n",
        "plt.title('Truth or Bluff (SVR)')\n",
        "plt.xlabel('Position level')\n",
        "plt.ylabel('Salary')\n",
        "plt.show()"
      ],
      "execution_count": 96,
      "outputs": [
        {
          "output_type": "display_data",
          "data": {
            "image/png": "[encoded data removed]",
            "text/plain": [
              "<Figure size 432x288 with 1 Axes>"
            ]
          },
          "metadata": {
            "tags": [],
            "needs_background": "light"
          }
        }
      ]
    },
    {
      "cell_type": "markdown",
      "metadata": {
        "id": "UahPVNlJSZ-K"
      },
      "source": [
        "## Visualising the SVR results (for higher resolution and smoother curve)"
      ]
    },
    {
      "cell_type": "code",
      "metadata": {
        "id": "7fkhPL7RSd2X",
        "colab": {
          "base_uri": "https://localhost:8080/",
          "height": 295
        },
        "outputId": "41815b7f-d459-4e0a-b8f2-1d0f9edc2f4a"
      },
      "source": [
        "scale_inverse_x = sc_X.inverse_transform(X) # inverse the scalling values into the real values\n",
        "scale_inverse_y = sc_y.inverse_transform(y) # inverse the scalling values into the real values\n",
        "\n",
        "X_grid = np.arange(min(scale_inverse_x), max(scale_inverse_x), 0.1) # create a array\n",
        "#print(X_grid) # [1.0 1.1 1.2 1.3 1.4 n.m]\n",
        "X_grid = X_grid.reshape((len(X_grid), 1))\n",
        "#print(X_grid) # convert into a 2D array. [[1. ] [1.1] [1.2] [1.3] [1.4] [n.m]]\n",
        "\n",
        "plt.scatter(scale_inverse_x, scale_inverse_y, color = 'red') # plot red dots\n",
        "\n",
        "X_grid_scale = sc_X.transform(X_grid) # scale it out before predicting a value\n",
        "y_pred_val_scale = regressor.predict(X_grid_scale) # predict a scale value\n",
        "y_pred_val_real = sc_y.inverse_transform(y_pred_val_scale) # inverse to get real value\n",
        "plt.plot(X_grid, y_pred_val_real, color = 'blue')\n",
        "\n",
        "plt.title('Truth or Bluff (SVR)')\n",
        "plt.xlabel('Feature: Position level')\n",
        "plt.ylabel('Salary')\n",
        "plt.show()\n",
        "\n",
        "# We see one point top-right is not covered because SVR can have such cases. There can be cases where few points are out of the line(tube)\n",
        "\n",
        "# Difference between SVR vs Polynomial:\n",
        "# SVR is less overfitting. We make it through the Scaler.\n",
        "# But Polynomial is some overfitting of feature data and we select high degree.\n",
        "# So SVR is much better with less overfitting data but can drop few points."
      ],
      "execution_count": 77,
      "outputs": [
        {
          "output_type": "display_data",
          "data": {
            "image/png": "[encoded data removed]",
            "text/plain": [
              "<Figure size 432x288 with 1 Axes>"
            ]
          },
          "metadata": {
            "tags": [],
            "needs_background": "light"
          }
        }
      ]
    }
  ]
}